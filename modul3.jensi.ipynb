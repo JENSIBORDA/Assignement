{
 "cells": [
  {
   "cell_type": "markdown",
   "id": "069cc138",
   "metadata": {},
   "source": [
    "# modul 3"
   ]
  },
  {
   "cell_type": "code",
   "execution_count": 5,
   "id": "47300c63",
   "metadata": {},
   "outputs": [],
   "source": [
    " #1] lists are used to store multiple iteams in a single variable.\n",
    "#  reversing a list using the reverse() function\n",
    "\n"
   ]
  },
  {
   "cell_type": "code",
   "execution_count": 4,
   "id": "1cd2a651",
   "metadata": {},
   "outputs": [
    {
     "data": {
      "text/plain": [
       "25"
      ]
     },
     "execution_count": 4,
     "metadata": {},
     "output_type": "execute_result"
    }
   ],
   "source": [
    "# 2] using pop method we will remove last object from list\n",
    "list1=[2,33,222,14,25]\n",
    "list1[-1]\n"
   ]
  },
  {
   "cell_type": "code",
   "execution_count": 7,
   "id": "a573075e",
   "metadata": {},
   "outputs": [],
   "source": [
    "# 3] append() :\n",
    "   # add number at last of list.\n",
    "  # extend() :\n",
    "  #  join/extend list but as an individual.\n",
    "  "
   ]
  },
  {
   "cell_type": "code",
   "execution_count": 9,
   "id": "5ed26392",
   "metadata": {},
   "outputs": [
    {
     "name": "stdout",
     "output_type": "stream",
     "text": [
      "0\n",
      "8\n",
      "4\n",
      "11\n",
      "19\n",
      "22\n",
      "27\n",
      "29\n",
      "30\n",
      "30\n"
     ]
    }
   ],
   "source": [
    "# 4]\n",
    "a=[4,7,8,3,5,2,1,0]\n",
    "sum=0\n",
    "print(min(a))\n",
    "print(max(a))\n",
    "for i in a:\n",
    "    sum=sum+i\n",
    "    print(sum)\n",
    "    \n"
   ]
  },
  {
   "cell_type": "code",
   "execution_count": 1,
   "id": "557e6779",
   "metadata": {},
   "outputs": [
    {
     "name": "stdout",
     "output_type": "stream",
     "text": [
      "list is not same\n"
     ]
    }
   ],
   "source": [
    "# 5]  How will you compare two lists?\n",
    "l1 = [2,33,222,14,15]\n",
    "l2 = [2,34,54,65,67]\n",
    "l1.sort()\n",
    "l2.sort()\n",
    "if l1==l2:\n",
    "    print(\"the both list is same \")\n",
    "else:\n",
    "    print(\"list is not same\")"
   ]
  },
  {
   "cell_type": "code",
   "execution_count": 2,
   "id": "6a4b8f0d",
   "metadata": {},
   "outputs": [
    {
     "name": "stdout",
     "output_type": "stream",
     "text": [
      "list is not empty\n"
     ]
    }
   ],
   "source": [
    "# 8)Write a Python program to check a list is empty or not. \n",
    "l1 = [2,33,222,222,14,15]\n",
    "if len(l1) == 0:\n",
    "    print(\"list is empty\")\n",
    "else:\n",
    "    print(\"list is not empty\")"
   ]
  },
  {
   "cell_type": "code",
   "execution_count": 3,
   "id": "4364454a",
   "metadata": {},
   "outputs": [
    {
     "name": "stdout",
     "output_type": "stream",
     "text": [
      "3\n"
     ]
    }
   ],
   "source": [
    "# 6)Write a Python program to count the number of strings where the string \n",
    "# length is 2 or more and the first and last character are same from a given \n",
    "# list of strings. \n",
    "l1 = ['aaa','abd','ace','eye','pip','iot']\n",
    "count=0\n",
    "for i in l1:\n",
    "    if len(i)>2 and i[0] == i[-1]:\n",
    "        count+=1\n",
    "print(count)"
   ]
  },
  {
   "cell_type": "code",
   "execution_count": 4,
   "id": "1a8f3a14",
   "metadata": {},
   "outputs": [
    {
     "name": "stdout",
     "output_type": "stream",
     "text": [
      "[33, 2, 14, 15, 222]\n"
     ]
    }
   ],
   "source": [
    "# 7) Write a Python program to remove duplicates from a list. \n",
    "l1 = [2,33,222,222,14,15]\n",
    "print(list(set(l1)))"
   ]
  },
  {
   "cell_type": "code",
   "execution_count": 5,
   "id": "86f262c6",
   "metadata": {},
   "outputs": [
    {
     "name": "stdout",
     "output_type": "stream",
     "text": [
      "True\n"
     ]
    }
   ],
   "source": [
    "#  Write a Python function that takes two lists and returns true if they have \n",
    "# at least one common member.  \n",
    "l1 = [2,33,222,222,14,15]\n",
    "l2 = ['aaa','abd','ace',2]\n",
    "result = False\n",
    "for x in l1:\n",
    "    for y in l2:\n",
    "        if x==y:\n",
    "            result = True\n",
    "print(result)"
   ]
  },
  {
   "cell_type": "code",
   "execution_count": 6,
   "id": "17627d3c",
   "metadata": {},
   "outputs": [
    {
     "name": "stdout",
     "output_type": "stream",
     "text": [
      "enter the string:32\n",
      "32\n"
     ]
    }
   ],
   "source": [
    "#\n",
    "str1 = input (\"enter the string:\")\n",
    "if len(str1)<2:\n",
    "    print(\"enter the string more than length of string\")\n",
    "else:\n",
    "    str1[0]==str1[-1]\n",
    "    print(str1)"
   ]
  },
  {
   "cell_type": "code",
   "execution_count": 10,
   "id": "53390d11",
   "metadata": {},
   "outputs": [
    {
     "name": "stdout",
     "output_type": "stream",
     "text": [
      "enter the list item:\n",
      "the list is empty\n"
     ]
    }
   ],
   "source": [
    "l1 = list(input(\"enter the list item:\"))\n",
    "# print(len(l1))\n",
    "if len(l1)==0:\n",
    "    print(\"the list is empty\")"
   ]
  },
  {
   "cell_type": "code",
   "execution_count": 11,
   "id": "822c8165",
   "metadata": {},
   "outputs": [
    {
     "name": "stdout",
     "output_type": "stream",
     "text": [
      "enter the list1:2\n",
      "enter the list2:3\n",
      "['2'] ['3']\n",
      "None\n"
     ]
    }
   ],
   "source": [
    "def common_num():\n",
    "    l1 = list(input(\"enter the list1:\"))\n",
    "    l2 = list(input(\"enter the list2:\"))\n",
    "    for i in l1:\n",
    "        for j in l2:\n",
    "            if i==j:\n",
    "                return True\n",
    "    print(l1,l2)\n",
    "print(common_num())\n"
   ]
  },
  {
   "cell_type": "code",
   "execution_count": 13,
   "id": "317a5200",
   "metadata": {},
   "outputs": [
    {
     "name": "stdout",
     "output_type": "stream",
     "text": [
      "[1, 4, 9, 16, 25]\n",
      "[900, 841, 784, 729]\n"
     ]
    }
   ],
   "source": [
    "#  Write a Python program to generate and print a list of first and last 5 \n",
    "# elements where the values are square of numbers between 1 and 30. \n",
    "def printvalues():\n",
    "    l=list()\n",
    "    for i in range(1,31):\n",
    "        l.append(i**2)\n",
    "    print(l[:5])\n",
    "    print(l[:-5:-1])\n",
    "printvalues()\n"
   ]
  },
  {
   "cell_type": "code",
   "execution_count": 14,
   "id": "0a72656d",
   "metadata": {},
   "outputs": [
    {
     "name": "stdout",
     "output_type": "stream",
     "text": [
      "[1, 2, 3, 4, 56, 7, 8, 9, 0, 65]\n"
     ]
    }
   ],
   "source": [
    "# rite a Python function that takes a list and returns a new list with unique \n",
    "# elements of the first list.\n",
    "def uniqe_list(l):\n",
    "    x=[]\n",
    "    for i in l:\n",
    "        if i not in x:\n",
    "            x.append(i)\n",
    "    return x\n",
    "print(uniqe_list([1,2,3,4,56,7,8,9,0,9,8,7,65,4,4,3,2,1]))\n",
    "# uniqe_list(l)"
   ]
  },
  {
   "cell_type": "code",
   "execution_count": 15,
   "id": "7b784fd4",
   "metadata": {},
   "outputs": [
    {
     "name": "stdout",
     "output_type": "stream",
     "text": [
      "jensi\n"
     ]
    }
   ],
   "source": [
    "# Write a Python program to convert a list of characters into a string. \n",
    "def convert(s):\n",
    "    new=\"\"\n",
    "    for i in s:\n",
    "        new+=i\n",
    "    return new\n",
    "print(convert([\"j\",'e','n','s','i']))"
   ]
  },
  {
   "cell_type": "code",
   "execution_count": 17,
   "id": "cf8735ff",
   "metadata": {},
   "outputs": [
    {
     "data": {
      "text/plain": [
       "1"
      ]
     },
     "execution_count": 17,
     "metadata": {},
     "output_type": "execute_result"
    }
   ],
   "source": [
    "#Write a Python program to select an item randomly from a list. \n",
    "import random\n",
    "list1 =[1,2,3,4,5,6,87,8,6,5,4]\n",
    "random.choice(list1)\n"
   ]
  },
  {
   "cell_type": "code",
   "execution_count": 18,
   "id": "f1ed920e",
   "metadata": {},
   "outputs": [
    {
     "data": {
      "text/plain": [
       "3"
      ]
     },
     "execution_count": 18,
     "metadata": {},
     "output_type": "execute_result"
    }
   ],
   "source": [
    "# Write a Python program to find the second smallest number in a list. \n",
    "list1 =[3,5,6,8,6,6,4,32,2,4,5,6,78,]\n",
    "list1.sort()\n",
    "list1[1]"
   ]
  },
  {
   "cell_type": "code",
   "execution_count": 19,
   "id": "96a2b07a",
   "metadata": {},
   "outputs": [
    {
     "name": "stdout",
     "output_type": "stream",
     "text": [
      "[2, 4, 5, 6, 78, 9, 7, 65, 3, 32, 24, 56]\n"
     ]
    }
   ],
   "source": [
    "#Write a Python program to get unique values from a list \n",
    "l=[2,4,5,6,78,9,7,65,4,3,2,4,6,5,4,32,24,56,6,5,4,3]\n",
    "x=[]\n",
    "for i in l:\n",
    "    if i not in x:\n",
    "        x.append(i)\n",
    "print(x)"
   ]
  },
  {
   "cell_type": "code",
   "execution_count": 20,
   "id": "80eeb9a6",
   "metadata": {},
   "outputs": [
    {
     "ename": "TypeError",
     "evalue": "object of type 'int' has no len()",
     "output_type": "error",
     "traceback": [
      "\u001b[1;31m---------------------------------------------------------------------------\u001b[0m",
      "\u001b[1;31mTypeError\u001b[0m                                 Traceback (most recent call last)",
      "\u001b[1;32m~\\AppData\\Local\\Temp\\ipykernel_9860\\2121665574.py\u001b[0m in \u001b[0;36m<module>\u001b[1;34m\u001b[0m\n\u001b[0;32m      3\u001b[0m \u001b[1;32mfor\u001b[0m \u001b[0mi\u001b[0m \u001b[1;32min\u001b[0m \u001b[1;33m(\u001b[0m\u001b[0mlist1\u001b[0m\u001b[1;33m)\u001b[0m\u001b[1;33m:\u001b[0m\u001b[1;33m\u001b[0m\u001b[1;33m\u001b[0m\u001b[0m\n\u001b[0;32m      4\u001b[0m \u001b[1;31m#     print(i)\u001b[0m\u001b[1;33m\u001b[0m\u001b[1;33m\u001b[0m\u001b[0m\n\u001b[1;32m----> 5\u001b[1;33m     \u001b[1;32mif\u001b[0m \u001b[0mlen\u001b[0m\u001b[1;33m(\u001b[0m\u001b[0mi\u001b[0m\u001b[1;33m)\u001b[0m\u001b[1;33m>\u001b[0m\u001b[1;36m2\u001b[0m\u001b[1;33m:\u001b[0m\u001b[1;33m\u001b[0m\u001b[1;33m\u001b[0m\u001b[0m\n\u001b[0m\u001b[0;32m      6\u001b[0m         \u001b[0mprint\u001b[0m\u001b[1;33m(\u001b[0m\u001b[1;34m\"list contain sublist\"\u001b[0m\u001b[1;33m)\u001b[0m\u001b[1;33m\u001b[0m\u001b[1;33m\u001b[0m\u001b[0m\n\u001b[0;32m      7\u001b[0m     \u001b[1;32melse\u001b[0m\u001b[1;33m:\u001b[0m\u001b[1;33m\u001b[0m\u001b[1;33m\u001b[0m\u001b[0m\n",
      "\u001b[1;31mTypeError\u001b[0m: object of type 'int' has no len()"
     ]
    }
   ],
   "source": [
    "#Write a Python program to check whether a list contains a sub list\n",
    "list1=[2,3,3,4,6,6,[7,8,665,4,],4,3]\n",
    "for i in (list1):\n",
    "#     print(i)\n",
    "    if len(i)>2:\n",
    "        print(\"list contain sublist\")\n",
    "    else:\n",
    "        print(\"list is not contain sublist\")"
   ]
  },
  {
   "cell_type": "code",
   "execution_count": 21,
   "id": "6213a837",
   "metadata": {},
   "outputs": [
    {
     "name": "stdout",
     "output_type": "stream",
     "text": [
      "[1, 2, 3, 4, 5, 6] [7, 8, 90]\n"
     ]
    }
   ],
   "source": [
    "#Write a Python program to split a list into different variables.\n",
    "list1 = [1,2,3,4,5,6,7,8,90]\n",
    "# print(len(list1))\n",
    "var1=list1[:6]\n",
    "var2=list1[6:]\n",
    "print(var1,var2)"
   ]
  },
  {
   "cell_type": "code",
   "execution_count": 22,
   "id": "d74abe79",
   "metadata": {},
   "outputs": [
    {
     "name": "stdout",
     "output_type": "stream",
     "text": [
      "(1, 2, 2.33, 'jensi', [1, 2, 33], (1, 2, 3), {'jensi': 23}, {5.5, 6, 55})\n"
     ]
    }
   ],
   "source": [
    "# Write a Python program to create a tuple with different data types. \n",
    "tup1=(1,2,2.33,\"jensi\",[1,2,33],(1,2,3),{\"jensi\":23},{55,5.5,6,6})\n",
    "print(tup1)"
   ]
  },
  {
   "cell_type": "code",
   "execution_count": 23,
   "id": "6bce4851",
   "metadata": {},
   "outputs": [
    {
     "data": {
      "text/plain": [
       "'(22, 23, 2, 4, 25, 26, 25, 233, 3333)'"
      ]
     },
     "execution_count": 23,
     "metadata": {},
     "output_type": "execute_result"
    }
   ],
   "source": [
    "#Write a Python program to convert a tuple to a string. \n",
    "tup1=(22,23,2,4,25,26,25,233,3333)\n",
    "str(tup1)"
   ]
  },
  {
   "cell_type": "code",
   "execution_count": 24,
   "id": "15ffc895",
   "metadata": {},
   "outputs": [
    {
     "name": "stdout",
     "output_type": "stream",
     "text": [
      "enter the number:22\n",
      "enter number is aleredy exist in tuple\n",
      "enter number is aleredy exist in tuple\n"
     ]
    }
   ],
   "source": [
    "#  Write a Python program to check whether an element exists within a \n",
    "# tuple. \n",
    "tup1=(22,23,2,4,25,26,25,233,3333,22,23,24)\n",
    "num=int(input(\"enter the number:\"))\n",
    "for i in tup1:\n",
    "    if num==i:\n",
    "        print(\"enter number is aleredy exist in tuple\")\n",
    "#     else:\n",
    "#         print(\"number is not exist\")\n",
    "        "
   ]
  },
  {
   "cell_type": "code",
   "execution_count": 25,
   "id": "13e8e869",
   "metadata": {},
   "outputs": [
    {
     "data": {
      "text/plain": [
       "(1, 2, 3, 4, 5, 6, 7, 8, 90)"
      ]
     },
     "execution_count": 25,
     "metadata": {},
     "output_type": "execute_result"
    }
   ],
   "source": [
    "#  Write a Python program to find the length of a tuple. \n",
    "list1 = [1,2,3,4,5,6,7,8,90]\n",
    "tuple(list1)"
   ]
  },
  {
   "cell_type": "code",
   "execution_count": 26,
   "id": "08dd690b",
   "metadata": {},
   "outputs": [
    {
     "data": {
      "text/plain": [
       "(3333, 233, 25, 26, 25, 4, 2, 23, 22)"
      ]
     },
     "execution_count": 26,
     "metadata": {},
     "output_type": "execute_result"
    }
   ],
   "source": [
    "# Write a Python program to reverse a tuple.\n",
    "tup1=(22,23,2,4,25,26,25,233,3333)\n",
    "tup1[::-1]"
   ]
  },
  {
   "cell_type": "code",
   "execution_count": 27,
   "id": "43f2b96f",
   "metadata": {},
   "outputs": [
    {
     "name": "stdout",
     "output_type": "stream",
     "text": [
      "(22, 23, 2, 4, 25, 26, 25, 233, 3444)\n"
     ]
    }
   ],
   "source": [
    "# rite a Python program to replace last value of tuples in a list. \n",
    "tup1=(22,23,2,4,25,26,25,233,3333)\n",
    "list1=list(tup1)\n",
    "list1[-1]=3444\n",
    "print(tuple(list1))\n",
    "# print(list1)"
   ]
  },
  {
   "cell_type": "code",
   "execution_count": 28,
   "id": "8001a647",
   "metadata": {},
   "outputs": [
    {
     "name": "stdout",
     "output_type": "stream",
     "text": [
      "[22, 25, 22, 25]\n"
     ]
    }
   ],
   "source": [
    "# Write a Python program to find the repeated items of a tuple. \n",
    "tup1=(22,23,2,4,25,26,22,233,3333.35,25)\n",
    "repeted_items=[]\n",
    "for i in tup1:\n",
    "    if tup1.count(i)>1:\n",
    "        repeted_items.append(i)\n",
    "print(repeted_items)\n"
   ]
  },
  {
   "cell_type": "code",
   "execution_count": 29,
   "id": "c4bf1021",
   "metadata": {},
   "outputs": [],
   "source": [
    "# rite a Python program to remove an empty tuple(s) from a list of tuples. \n",
    "def Remove(tuples):\n",
    "    for i in tuples:\n",
    "        if(len(i) == 0):\n",
    "            tuples.remove(i)\n",
    "    return tuples"
   ]
  },
  {
   "cell_type": "code",
   "execution_count": 30,
   "id": "35ac998f",
   "metadata": {},
   "outputs": [
    {
     "name": "stdout",
     "output_type": "stream",
     "text": [
      "[('ram', '15', '8'), ('laxman', 'sita'), ('krishna', 'akbar', '45'), ('', '')]\n"
     ]
    }
   ],
   "source": [
    "# Driver Code\n",
    "tuples = [(), ('ram', '15', '8'), (), ('laxman', 'sita'),('krishna', 'akbar', '45'), ('', ''), ()]\n",
    "print(Remove(tuples))"
   ]
  },
  {
   "cell_type": "code",
   "execution_count": 31,
   "id": "4854887f",
   "metadata": {},
   "outputs": [
    {
     "name": "stdout",
     "output_type": "stream",
     "text": [
      "[(1, 4), (2, 5), (3, 6)]\n"
     ]
    }
   ],
   "source": [
    "#  Write a Python program to unzip a list of tuples into individual lists. \n",
    "l1=[(1,2,3),(4,5,6)]\n",
    "print(list(zip(*l1)))"
   ]
  },
  {
   "cell_type": "code",
   "execution_count": 32,
   "id": "a9983fb2",
   "metadata": {},
   "outputs": [
    {
     "ename": "TypeError",
     "evalue": "cannot convert dictionary update sequence element #0 to a sequence",
     "output_type": "error",
     "traceback": [
      "\u001b[1;31m---------------------------------------------------------------------------\u001b[0m",
      "\u001b[1;31mTypeError\u001b[0m                                 Traceback (most recent call last)",
      "\u001b[1;32m~\\AppData\\Local\\Temp\\ipykernel_9860\\837411002.py\u001b[0m in \u001b[0;36m<module>\u001b[1;34m\u001b[0m\n\u001b[0;32m      1\u001b[0m \u001b[0ml1\u001b[0m\u001b[1;33m=\u001b[0m\u001b[1;33m[\u001b[0m\u001b[1;33m(\u001b[0m\u001b[1;36m1\u001b[0m\u001b[1;33m,\u001b[0m\u001b[1;36m2\u001b[0m\u001b[1;33m,\u001b[0m\u001b[1;36m3\u001b[0m\u001b[1;33m,\u001b[0m\u001b[1;36m4\u001b[0m\u001b[1;33m)\u001b[0m\u001b[1;33m,\u001b[0m\u001b[1;33m(\u001b[0m\u001b[1;36m3\u001b[0m\u001b[1;33m,\u001b[0m\u001b[1;36m4\u001b[0m\u001b[1;33m,\u001b[0m\u001b[1;36m5\u001b[0m\u001b[1;33m,\u001b[0m\u001b[1;36m6\u001b[0m\u001b[1;33m)\u001b[0m\u001b[1;33m]\u001b[0m\u001b[1;33m\u001b[0m\u001b[1;33m\u001b[0m\u001b[0m\n\u001b[1;32m----> 2\u001b[1;33m \u001b[0mprint\u001b[0m\u001b[1;33m(\u001b[0m\u001b[0mdict\u001b[0m\u001b[1;33m(\u001b[0m\u001b[0ml1\u001b[0m\u001b[1;33m[\u001b[0m\u001b[1;36m0\u001b[0m\u001b[1;33m]\u001b[0m\u001b[1;33m)\u001b[0m\u001b[1;33m)\u001b[0m\u001b[1;33m\u001b[0m\u001b[1;33m\u001b[0m\u001b[0m\n\u001b[0m",
      "\u001b[1;31mTypeError\u001b[0m: cannot convert dictionary update sequence element #0 to a sequence"
     ]
    }
   ],
   "source": [
    "l1=[(1,2,3,4),(3,4,5,6)]\n",
    "print(dict(l1[0]))"
   ]
  },
  {
   "cell_type": "code",
   "execution_count": 35,
   "id": "647570f7",
   "metadata": {},
   "outputs": [
    {
     "ename": "SyntaxError",
     "evalue": "invalid syntax (1647473689.py, line 2)",
     "output_type": "error",
     "traceback": [
      "\u001b[1;36m  File \u001b[1;32m\"C:\\Users\\PC\\AppData\\Local\\Temp\\ipykernel_9860\\1647473689.py\"\u001b[1;36m, line \u001b[1;32m2\u001b[0m\n\u001b[1;33m    in[5]:\u001b[0m\n\u001b[1;37m    ^\u001b[0m\n\u001b[1;31mSyntaxError\u001b[0m\u001b[1;31m:\u001b[0m invalid syntax\n"
     ]
    }
   ],
   "source": [
    "#0 to a sequence\n",
    "in[5]:\n",
    "data={(1,2,3):\"red\",(2,3,4):\"yellow\"}\n",
    "print(data)"
   ]
  },
  {
   "cell_type": "code",
   "execution_count": 36,
   "id": "7db327fa",
   "metadata": {},
   "outputs": [
    {
     "name": "stdout",
     "output_type": "stream",
     "text": [
      "{1: 2, 2: 3, 4: 5}\n"
     ]
    }
   ],
   "source": [
    "#  Write a Python script to concatenate following dictionaries to create a \n",
    "# new one. \n",
    "dict1 = {1:2,2:3}\n",
    "dict2 ={2:3,4:5}\n",
    "dict3={}\n",
    "for i  in (dict1,dict2):\n",
    "    dict3.update(i)\n",
    "print(dict3)"
   ]
  },
  {
   "cell_type": "code",
   "execution_count": 37,
   "id": "94469d36",
   "metadata": {},
   "outputs": [
    {
     "name": "stdout",
     "output_type": "stream",
     "text": [
      "enter the key name:7\n",
      "not present\n"
     ]
    }
   ],
   "source": [
    "# Write a Python script to check if a given key already exists in a \n",
    "# dictionary.\n",
    "key=input(\"enter the key name:\")\n",
    "dic={'1':2,'2':3,'3':4,'3':5,'4':6,'6':7}\n",
    "if key in dic.keys():\n",
    "    print(\"present\")\n",
    "else:\n",
    "    print(\"not present\")"
   ]
  },
  {
   "cell_type": "code",
   "execution_count": 38,
   "id": "fd6f9a0e",
   "metadata": {},
   "outputs": [
    {
     "name": "stdout",
     "output_type": "stream",
     "text": [
      "{1: 1, 2: 4, 3: 9, 4: 16, 5: 25, 6: 36, 7: 49, 8: 64, 9: 81, 10: 100, 11: 121, 12: 144, 13: 169, 14: 196, 15: 225}\n"
     ]
    }
   ],
   "source": [
    "#  Write a Python script to print a dictionary where the keys are numbers \n",
    "# between 1 and 15. \n",
    "a=dict()\n",
    "for i in range(1,16):\n",
    "    a[i]=i**2\n",
    "print(a)"
   ]
  },
  {
   "cell_type": "code",
   "execution_count": 39,
   "id": "f30f0904",
   "metadata": {},
   "outputs": [
    {
     "name": "stdout",
     "output_type": "stream",
     "text": [
      "enter the key 6\n",
      "present\n"
     ]
    }
   ],
   "source": [
    "#  How Do You Check The Presence Of A Key In A Dictionary? \n",
    "dic={\"1\":2,'3':4,'4':6,'6':7}\n",
    "x = input(\"enter the key \")\n",
    "# dic.has_key(x)\n",
    "if x in dic:\n",
    "    print(\"present\")\n",
    "else:\n",
    "    print(\"not prsent\")"
   ]
  },
  {
   "cell_type": "code",
   "execution_count": 40,
   "id": "1ae571f6",
   "metadata": {},
   "outputs": [
    {
     "name": "stdout",
     "output_type": "stream",
     "text": [
      "1 2\n",
      "3 4\n",
      "4 6\n",
      "6 7\n"
     ]
    }
   ],
   "source": [
    "# How Do You Traverse Through A Dictionary Object In Python? \n",
    "dic={\"1\":2,'3':4,'4':6,'6':7}\n",
    "for keys,values in dic.items():\n",
    "    print(keys,values)"
   ]
  },
  {
   "cell_type": "code",
   "execution_count": 41,
   "id": "3e32d20d",
   "metadata": {},
   "outputs": [
    {
     "name": "stdout",
     "output_type": "stream",
     "text": [
      "{'a': 400, 'b': 400, 'c': 300, 'd': 400}\n"
     ]
    }
   ],
   "source": [
    "#  Write a Python program to combine two dictionary adding values for \n",
    "# common keys. \n",
    "# d1 = {'a': 100, 'b': 200, 'c':300} o d2 = {'a': 300, 'b': 200,’d’:400} \n",
    "# Sample output: Counter ({'a': 400, 'b': 400,’d’: 400, 'c': 300}). \n",
    "d1 = {'a': 100, 'b': 200, 'c':300}\n",
    "d2 = {'a': 300, 'b': 200,'d':400} \n",
    "# print(d1.get(\"a\"))\n",
    "c = {i: d1.get(i, 0) + d2.get(i, 0)\n",
    "     for i in set(d1).union(d2)}\n",
    "print(c)"
   ]
  },
  {
   "cell_type": "code",
   "execution_count": 42,
   "id": "fc14b1b5",
   "metadata": {},
   "outputs": [
    {
     "name": "stdout",
     "output_type": "stream",
     "text": [
      "dict_keys(['a', 'b', 'd'])\n"
     ]
    }
   ],
   "source": [
    "# Write a Python program to print all unique values in a dictionary. \n",
    "d2 = {'a': 300, 'b': 200,'d':400,'a': 300, 'b': 200,'d':400}  \n",
    "\n",
    "print(d2.keys())"
   ]
  },
  {
   "cell_type": "code",
   "execution_count": 43,
   "id": "41c1b4ca",
   "metadata": {},
   "outputs": [
    {
     "name": "stdout",
     "output_type": "stream",
     "text": [
      "ac\n",
      "ad\n",
      "bc\n",
      "bd\n"
     ]
    }
   ],
   "source": [
    "# selecting each letter from a different key in a dictionary. \n",
    "d1={'1': ['a','b'], '2': ['c','d']} \n",
    "for x in d1[\"1\"]:\n",
    "    for y in d1[\"2\"]:\n",
    "        print(x+y)"
   ]
  },
  {
   "cell_type": "code",
   "execution_count": 44,
   "id": "80fae77f",
   "metadata": {},
   "outputs": [
    {
     "name": "stdout",
     "output_type": "stream",
     "text": [
      "[400, 500, 800]\n"
     ]
    }
   ],
   "source": [
    "#  Write a Python program to find the highest 3 values in a dictionary \n",
    "d1={'a': 300, 'b': 200,'dc':400,'e': 500, 'f': 800,'g':100}\n",
    "d2=list(d1.values())\n",
    "# print(d2)\n",
    "d2.sort()\n",
    "print(d2[-3:])"
   ]
  },
  {
   "cell_type": "code",
   "execution_count": 45,
   "id": "78e34730",
   "metadata": {},
   "outputs": [
    {
     "name": "stdout",
     "output_type": "stream",
     "text": [
      "enter factorial number:8\n",
      "40320\n"
     ]
    }
   ],
   "source": [
    "#  Write a Python function to calculate the factorial of a number (a nonnegative integer) \n",
    "def factorial(n):\n",
    "    fact=1\n",
    "    for i in range(2,n+1):\n",
    "        fact=fact*i\n",
    "    return fact\n",
    "n=int(input(\"enter factorial number:\"))\n",
    "print(factorial(n))\n"
   ]
  },
  {
   "cell_type": "code",
   "execution_count": 46,
   "id": "5964980d",
   "metadata": {},
   "outputs": [
    {
     "name": "stdout",
     "output_type": "stream",
     "text": [
      "enter the number23\n",
      "the number is in range\n"
     ]
    }
   ],
   "source": [
    "# Write a Python function to check whether a number is in a given range\n",
    "num=int(input(\"enter the number\"))\n",
    "\n",
    "if num in range(0,45):\n",
    "    print(\"the number is in range\")\n",
    "else:\n",
    "    print(\"the number is not given in range\")"
   ]
  },
  {
   "cell_type": "code",
   "execution_count": 48,
   "id": "c0830577",
   "metadata": {},
   "outputs": [
    {
     "name": "stdout",
     "output_type": "stream",
     "text": [
      "enter the number8\n",
      "1\n",
      "3\n",
      "3\n",
      "7\n",
      "7\n",
      "7\n",
      "7\n"
     ]
    }
   ],
   "source": [
    "# Write a Python function to check whether a number is perfect or not. \n",
    "\n",
    "n= int(input(\"enter the number\"))\n",
    "sum = 0\n",
    "for i in range(1,n):\n",
    "    if n % i==0:\n",
    "        sum= sum +i\n",
    "    print(sum)"
   ]
  },
  {
   "cell_type": "code",
   "execution_count": 49,
   "id": "fdb76de2",
   "metadata": {},
   "outputs": [
    {
     "name": "stdout",
     "output_type": "stream",
     "text": [
      "enter the string:kjnukvdmkdhj\n",
      "not\n",
      "None\n"
     ]
    }
   ],
   "source": [
    "# Write a Python function that checks whether a passed string is \n",
    "# palindrome or not\n",
    "def palindrome(x):\n",
    "    if x ==x[::-1]:\n",
    "        print(\"it is palindrome\")\n",
    "    else:\n",
    "        print(\"not\")\n",
    "x=input(\"enter the string:\")\n",
    "print(palindrome(x))"
   ]
  },
  {
   "cell_type": "code",
   "execution_count": 51,
   "id": "958e97d0",
   "metadata": {},
   "outputs": [
    {
     "name": "stdout",
     "output_type": "stream",
     "text": [
      "enter the number23\n",
      "24\n"
     ]
    }
   ],
   "source": [
    "n = int(input(\"enter the number\"))\n",
    "sum=0\n",
    "for i in range(1,n+1):\n",
    "    if n%i==0:\n",
    "        sum+=i\n",
    "print(sum)"
   ]
  },
  {
   "cell_type": "code",
   "execution_count": 52,
   "id": "00b5b767",
   "metadata": {},
   "outputs": [
    {
     "name": "stdout",
     "output_type": "stream",
     "text": [
      "enter the radious of thr cylinder235\n",
      "enter the height of the cylinder5266\n",
      "913158629.0 8118375.8\n"
     ]
    }
   ],
   "source": [
    "r = float(input(\"enter the radious of thr cylinder\"))\n",
    "h = float(input(\"enter the height of the cylinder\"))\n",
    "volume_of_cylinder= (3.14)*r*r*h\n",
    "surface_of_area= 3.14*2*r*r +2*3.14*r*h\n",
    "print(volume_of_cylinder,surface_of_area)"
   ]
  },
  {
   "cell_type": "code",
   "execution_count": 53,
   "id": "0f0a3e30",
   "metadata": {},
   "outputs": [
    {
     "name": "stdout",
     "output_type": "stream",
     "text": [
      "enter the value of basse22\n",
      "enter the value of height23\n",
      "506.0\n"
     ]
    }
   ],
   "source": [
    "# area of parallelogram\n",
    "b=float(input(\"enter the value of basse\"))\n",
    "h=float(input(\"enter the value of height\"))\n",
    "area=b*h\n",
    "print(area)"
   ]
  },
  {
   "cell_type": "code",
   "execution_count": 54,
   "id": "ae551018",
   "metadata": {},
   "outputs": [
    {
     "name": "stdout",
     "output_type": "stream",
     "text": [
      "enter the number52\n",
      "enter the number36\n",
      "enter the number43\n",
      "1892.0\n"
     ]
    }
   ],
   "source": [
    "# area of trapezoid\n",
    "b1=float(input(\"enter the number\"))\n",
    "b2=float(input(\"enter the number\"))\n",
    "h=float(input(\"enter the number\"))\n",
    "a=(b1+b2)*h/2\n",
    "print(a)"
   ]
  },
  {
   "cell_type": "code",
   "execution_count": 55,
   "id": "d9a4d74a",
   "metadata": {},
   "outputs": [
    {
     "name": "stdout",
     "output_type": "stream",
     "text": [
      "enter the number236\n",
      "4.118977034706617\n"
     ]
    }
   ],
   "source": [
    "# coversion of degree to radian\n",
    "from math import pi\n",
    "degree=float(input(\"enter the number\"))\n",
    "radian = degree*pi / 180\n",
    "print(radian)"
   ]
  },
  {
   "cell_type": "code",
   "execution_count": null,
   "id": "7cf7187a",
   "metadata": {},
   "outputs": [],
   "source": []
  }
 ],
 "metadata": {
  "kernelspec": {
   "display_name": "Python 3 (ipykernel)",
   "language": "python",
   "name": "python3"
  },
  "language_info": {
   "codemirror_mode": {
    "name": "ipython",
    "version": 3
   },
   "file_extension": ".py",
   "mimetype": "text/x-python",
   "name": "python",
   "nbconvert_exporter": "python",
   "pygments_lexer": "ipython3",
   "version": "3.9.13"
  }
 },
 "nbformat": 4,
 "nbformat_minor": 5
}
