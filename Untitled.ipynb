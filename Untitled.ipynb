{
 "cells": [
  {
   "cell_type": "code",
   "execution_count": 3,
   "id": "53bf9f8a",
   "metadata": {},
   "outputs": [],
   "source": [
    "# basic introduction in python\n",
    "#python 1991 ... released \n",
    "# java 1995....released\n",
    "#famouse beacuse simple syntax \n"
   ]
  },
  {
   "cell_type": "code",
   "execution_count": 7,
   "id": "c0abab7f",
   "metadata": {},
   "outputs": [],
   "source": [
    "#operators\n",
    "#> arithmetic \n",
    "#> comparison\n",
    "#> logical\n",
    "#> identity\n",
    "#> membership\n",
    "#> bitwise\n",
    "\n"
   ]
  },
  {
   "cell_type": "code",
   "execution_count": 11,
   "id": "6545a81a",
   "metadata": {},
   "outputs": [
    {
     "name": "stdout",
     "output_type": "stream",
     "text": [
      "156\n"
     ]
    }
   ],
   "source": [
    "#arithmetic\n",
    "\n",
    "#addition\n",
    "a=100\n",
    "b=56\n",
    "print(a+b)      \n",
    "# <<<<\" \">>>> print(\"\") not used \n",
    "# if used output will be (a+b)\n"
   ]
  },
  {
   "cell_type": "code",
   "execution_count": 15,
   "id": "4535be51",
   "metadata": {},
   "outputs": [
    {
     "name": "stdout",
     "output_type": "stream",
     "text": [
      "-1\n"
     ]
    }
   ],
   "source": [
    "#subtraction \n",
    "a=3\n",
    "b=4\n",
    "print(a-b)"
   ]
  },
  {
   "cell_type": "code",
   "execution_count": 16,
   "id": "9bc11300",
   "metadata": {},
   "outputs": [
    {
     "name": "stdout",
     "output_type": "stream",
     "text": [
      "20\n"
     ]
    }
   ],
   "source": [
    "#multiplication \n",
    "a=4\n",
    "b=5\n",
    "print(a*b)"
   ]
  },
  {
   "cell_type": "code",
   "execution_count": 37,
   "id": "430f1f2d",
   "metadata": {},
   "outputs": [
    {
     "name": "stdout",
     "output_type": "stream",
     "text": [
      "4.5\n"
     ]
    }
   ],
   "source": [
    "#division\n",
    "a,b=108,24\n",
    "print(a/b)"
   ]
  },
  {
   "cell_type": "code",
   "execution_count": 20,
   "id": "3ee230a6",
   "metadata": {},
   "outputs": [
    {
     "name": "stdout",
     "output_type": "stream",
     "text": [
      "14\n"
     ]
    }
   ],
   "source": [
    "#modulus\n",
    "a=869\n",
    "b=45\n",
    "print(a%b)"
   ]
  },
  {
   "cell_type": "code",
   "execution_count": 22,
   "id": "bfba498e",
   "metadata": {},
   "outputs": [
    {
     "name": "stdout",
     "output_type": "stream",
     "text": [
      "91125\n"
     ]
    }
   ],
   "source": [
    "#exponentiation\n",
    "a=45\n",
    "b=3\n",
    "print(a**b)     #means 45*45*45"
   ]
  },
  {
   "cell_type": "code",
   "execution_count": 26,
   "id": "1b7aaa65",
   "metadata": {},
   "outputs": [
    {
     "name": "stdout",
     "output_type": "stream",
     "text": [
      "257\n"
     ]
    }
   ],
   "source": [
    "#floor division \n",
    "a=515\n",
    "b=2\n",
    "print(a//b)\n",
    "# flooe division means result down to the nearest whole number "
   ]
  },
  {
   "cell_type": "code",
   "execution_count": 29,
   "id": "19007302",
   "metadata": {},
   "outputs": [
    {
     "name": "stdout",
     "output_type": "stream",
     "text": [
      "10\n"
     ]
    }
   ],
   "source": [
    "#### assignment operators\n",
    "#simple \n",
    "x=10\n",
    "print(x)          # x= syntax as well as \n"
   ]
  },
  {
   "cell_type": "code",
   "execution_count": 4,
   "id": "2454e211",
   "metadata": {},
   "outputs": [
    {
     "name": "stdout",
     "output_type": "stream",
     "text": [
      "Dncvbxvnxfvsvhjcjmcbvfhfjmc  Mnbvyusdgmcxcmb Hsndgfsdj\n"
     ]
    }
   ],
   "source": [
    "str=\"dncvbxvnxfvsvhjcjmcbvfhfjmc  mnbvyusdgmcxcmb hsndgfsdj\"\n",
    "print(str.title())"
   ]
  },
  {
   "cell_type": "code",
   "execution_count": 5,
   "id": "4a5abffc",
   "metadata": {},
   "outputs": [
    {
     "name": "stdout",
     "output_type": "stream",
     "text": [
      "                                                                      *                                                                       \n",
      "                                                                     * *                                                                      \n",
      "                                                                    * * *                                                                     \n",
      "                                                                   * * * *                                                                    \n"
     ]
    }
   ],
   "source": [
    "for i in range(1,5):\n",
    "    str1=i*\"* \"\n",
    "    print(str1.center(142))\n",
    "#space compalsary in str1=  ........\n",
    " "
   ]
  },
  {
   "cell_type": "code",
   "execution_count": 10,
   "id": "fa143256",
   "metadata": {},
   "outputs": [
    {
     "name": "stdout",
     "output_type": "stream",
     "text": [
      "                 *                 \n",
      "          * * * * * * * *          \n",
      "           * * * * * * *           \n",
      "            * * * * * *            \n",
      "             * * * * *             \n",
      "              * * * *              \n",
      "               * * *               \n",
      "                * *                \n",
      "                 *                 \n",
      "                * *                \n",
      "          * * * * * * * *          \n",
      "           * * * * * * *           \n",
      "            * * * * * *            \n",
      "             * * * * *             \n",
      "              * * * *              \n",
      "               * * *               \n",
      "                * *                \n",
      "                 *                 \n",
      "               * * *               \n",
      "          * * * * * * * *          \n",
      "           * * * * * * *           \n",
      "            * * * * * *            \n",
      "             * * * * *             \n",
      "              * * * *              \n",
      "               * * *               \n",
      "                * *                \n",
      "                 *                 \n",
      "              * * * *              \n",
      "          * * * * * * * *          \n",
      "           * * * * * * *           \n",
      "            * * * * * *            \n",
      "             * * * * *             \n",
      "              * * * *              \n",
      "               * * *               \n",
      "                * *                \n",
      "                 *                 \n",
      "             * * * * *             \n",
      "          * * * * * * * *          \n",
      "           * * * * * * *           \n",
      "            * * * * * *            \n",
      "             * * * * *             \n",
      "              * * * *              \n",
      "               * * *               \n",
      "                * *                \n",
      "                 *                 \n",
      "            * * * * * *            \n",
      "          * * * * * * * *          \n",
      "           * * * * * * *           \n",
      "            * * * * * *            \n",
      "             * * * * *             \n",
      "              * * * *              \n",
      "               * * *               \n",
      "                * *                \n",
      "                 *                 \n",
      "           * * * * * * *           \n",
      "          * * * * * * * *          \n",
      "           * * * * * * *           \n",
      "            * * * * * *            \n",
      "             * * * * *             \n",
      "              * * * *              \n",
      "               * * *               \n",
      "                * *                \n",
      "                 *                 \n"
     ]
    }
   ],
   "source": [
    "for i in range(1,8):\n",
    "    if i<4\n",
    "    str1=i*\"* \"\n",
    "    print(str1.center(35))\n",
    "    for i in range(8,0,-1):\n",
    "        str1=i*\"* \"\n",
    "        print(str1.center(35))"
   ]
  },
  {
   "cell_type": "code",
   "execution_count": 31,
   "id": "e927933a",
   "metadata": {},
   "outputs": [
    {
     "name": "stdout",
     "output_type": "stream",
     "text": [
      "bnkljdsegfsdkm kshkefkeh mekrhg mdsghrei gayuyred\n"
     ]
    }
   ],
   "source": [
    "# casefold and lower no difrence \n",
    "str1=\"bnkljdsegfsdkm kshkefkeh mekrhg mdsghrei gayuyred\"\n",
    "print(str1.casefold())\n",
    "# all letter small ma ave"
   ]
  },
  {
   "cell_type": "code",
   "execution_count": 25,
   "id": "71b0dd16",
   "metadata": {},
   "outputs": [
    {
     "name": "stdout",
     "output_type": "stream",
     "text": [
      "                                                jensi                                               \n",
      "*********************************************** jensi***********************************************\n"
     ]
    }
   ],
   "source": [
    "#center(width,[fillchae])\n",
    "str1=\" jensi\"\n",
    "print(str1.center(100))\n",
    "print(str1.center(100,\"*\"))"
   ]
  },
  {
   "cell_type": "code",
   "execution_count": 27,
   "id": "38b0a8cc",
   "metadata": {},
   "outputs": [
    {
     "name": "stdout",
     "output_type": "stream",
     "text": [
      "4\n",
      "4\n",
      "2\n",
      "1\n"
     ]
    }
   ],
   "source": [
    "#count substring count kare\n",
    "str1=\"mshue khedf ksdjfuye ksdfhue jksfdg mdfge fgyer\"\n",
    "print(str1.count(\"k\"))\n",
    "print(str1.count(\"s\"))\n",
    "print(str1.count(\"k\",20))\n",
    "print(str1.count(\"k\",20,30))"
   ]
  },
  {
   "cell_type": "code",
   "execution_count": 28,
   "id": "664d16e2",
   "metadata": {},
   "outputs": [],
   "source": [
    "#if find method ma lenth na hoy toh output -1 aave / # index method ma error show kare\n",
    "#find(\"substring\"[start][stope])\n"
   ]
  },
  {
   "cell_type": "code",
   "execution_count": 29,
   "id": "f09e0340",
   "metadata": {},
   "outputs": [],
   "source": [
    "# index method\n",
    "#index ma valuse find kariye tyare erroe show thay value erroe \n"
   ]
  },
  {
   "cell_type": "code",
   "execution_count": 35,
   "id": "4b275f6f",
   "metadata": {},
   "outputs": [
    {
     "name": "stdout",
     "output_type": "stream",
     "text": [
      "hello                                             \n",
      "hello*********************************************\n",
      "                                             hello\n",
      "*********************************************hello\n"
     ]
    }
   ],
   "source": [
    "# ljust and rjust\n",
    "#ljust\n",
    "str1=\"hello\"\n",
    "print(str1.ljust(50))\n",
    "print(str1.ljust(50,\"*\"))\n",
    "\n",
    "\n",
    "#rjust\n",
    "str1=\"hello\"\n",
    "print(str1.rjust(50))\n",
    "print(str1.rjust(50,\"*\"))\n",
    "\n"
   ]
  },
  {
   "cell_type": "code",
   "execution_count": 4,
   "id": "938695ee",
   "metadata": {},
   "outputs": [],
   "source": [
    "#partition always 3 part show kare\n",
    "#split method and parrtition  ma simmilarity nathi \n",
    "#split retun list of string with splite iteam of n number\n",
    "#parrtition retun tuple of string having "
   ]
  },
  {
   "cell_type": "code",
   "execution_count": 14,
   "id": "c64f9e56",
   "metadata": {},
   "outputs": [
    {
     "name": "stdout",
     "output_type": "stream",
     "text": [
      "False\n"
     ]
    }
   ],
   "source": [
    "#isalnum ma only and only aplhabet and numerical mate j true ape 6 space mate b false ape 6\n",
    "a=\"jhfmcnfckj345dhn\"\n",
    "print(str1.isalnum())"
   ]
  },
  {
   "cell_type": "code",
   "execution_count": 19,
   "id": "22004205",
   "metadata": {},
   "outputs": [
    {
     "name": "stdout",
     "output_type": "stream",
     "text": [
      "True\n",
      "ncdkj sdhj sldkjvoi\n",
      "True\n",
      "mdij \tlsakjcs\n"
     ]
    }
   ],
   "source": [
    "a=\"ncdkj sdhj sldkjvoi\"\n",
    "print(str1.isprintable())\n",
    "print(a)\n",
    "b=\"mdij \\tlsakjcs\"\n",
    "print(str1.isprintable())\n",
    "print(b)"
   ]
  },
  {
   "cell_type": "code",
   "execution_count": null,
   "id": "d376b662",
   "metadata": {},
   "outputs": [],
   "source": [
    "#zfill ma point ne pn count kare  (. 265 ) \".\" pa6i na number ne pn count kare "
   ]
  },
  {
   "cell_type": "code",
   "execution_count": null,
   "id": "5ec943dd",
   "metadata": {},
   "outputs": [],
   "source": [
    "email validation kar va nu home work ma"
   ]
  },
  {
   "cell_type": "code",
   "execution_count": null,
   "id": "279a1100",
   "metadata": {},
   "outputs": [],
   "source": [
    "#n coding\n",
    "\n"
   ]
  },
  {
   "cell_type": "code",
   "execution_count": 7,
   "id": "8680f39f",
   "metadata": {},
   "outputs": [
    {
     "name": "stdout",
     "output_type": "stream",
     "text": [
      "8\n",
      "[1, 2, 3, 4, [5, 6, 95, 8], 10, 15, 12]\n"
     ]
    }
   ],
   "source": [
    "#list\n",
    "#prectice work\n",
    "list1=[1,2,3,4,[5,6,7,8],10,15,12]\n",
    "print(len(list1))\n",
    "list1[4][2]=95\n",
    "print(list1)\n"
   ]
  },
  {
   "cell_type": "code",
   "execution_count": 8,
   "id": "2e1b2328",
   "metadata": {},
   "outputs": [
    {
     "name": "stdout",
     "output_type": "stream",
     "text": [
      ",sdnfiuedjcjd kjdhfviud\n"
     ]
    }
   ],
   "source": [
    "list1=[\"smdnfiuer\",\",sdnfiuedjcjd kjdhfviud\",\"cmkdjnvhjdfnvdfn vdfdfncvdkjfnv\",\"kjncfjsdnchjsncjkdnjk kkdjnhujdfvxdfv fd vndxj vndfkj\"]\n",
    "print(min(list1))"
   ]
  },
  {
   "cell_type": "code",
   "execution_count": 9,
   "id": "6e51ca4e",
   "metadata": {},
   "outputs": [
    {
     "ename": "TypeError",
     "evalue": "'<' not supported between instances of 'int' and 'str'",
     "output_type": "error",
     "traceback": [
      "\u001b[1;31m---------------------------------------------------------------------------\u001b[0m",
      "\u001b[1;31mTypeError\u001b[0m                                 Traceback (most recent call last)",
      "\u001b[1;32m~\\AppData\\Local\\Temp\\ipykernel_6932\\1300472942.py\u001b[0m in \u001b[0;36m<module>\u001b[1;34m\u001b[0m\n\u001b[0;32m      2\u001b[0m \u001b[1;31m#ex:\u001b[0m\u001b[1;33m\u001b[0m\u001b[1;33m\u001b[0m\u001b[0m\n\u001b[0;32m      3\u001b[0m \u001b[0mlist1\u001b[0m\u001b[1;33m=\u001b[0m\u001b[1;33m[\u001b[0m\u001b[1;34m\"ksdm\"\u001b[0m\u001b[1;33m,\u001b[0m\u001b[1;36m265\u001b[0m\u001b[1;33m,\u001b[0m\u001b[1;34m\"hjgk\"\u001b[0m\u001b[1;33m,\u001b[0m\u001b[1;36m265\u001b[0m\u001b[1;33m]\u001b[0m\u001b[1;33m\u001b[0m\u001b[1;33m\u001b[0m\u001b[0m\n\u001b[1;32m----> 4\u001b[1;33m \u001b[0mprint\u001b[0m\u001b[1;33m(\u001b[0m\u001b[0mmin\u001b[0m\u001b[1;33m(\u001b[0m\u001b[0mlist1\u001b[0m\u001b[1;33m)\u001b[0m\u001b[1;33m)\u001b[0m\u001b[1;33m\u001b[0m\u001b[1;33m\u001b[0m\u001b[0m\n\u001b[0m",
      "\u001b[1;31mTypeError\u001b[0m: '<' not supported between instances of 'int' and 'str'"
     ]
    }
   ],
   "source": [
    "# jyare digit and string sateh hoy tyare tyep error show thay \n",
    "#ex:\n",
    "list1=[\"ksdm\",265,\"hjgk\",265]\n",
    "print(min(list1))"
   ]
  },
  {
   "cell_type": "code",
   "execution_count": null,
   "id": "e60900f9",
   "metadata": {},
   "outputs": [],
   "source": [
    "#pop()  method ma \n",
    "# wrong index nakhvi yah available na hoy e index input kariye tyare   index error show kare b"
   ]
  },
  {
   "cell_type": "code",
   "execution_count": null,
   "id": "dc0ec4b0",
   "metadata": {},
   "outputs": [],
   "source": [
    "#remove() method ma\n",
    "# value no hoy e value input kariye tyare value error shoe thay \n"
   ]
  },
  {
   "cell_type": "code",
   "execution_count": null,
   "id": "002e9144",
   "metadata": {},
   "outputs": [],
   "source": [
    "#count ma element no hoy tyare \"0\" output ave \n",
    "# error show na thay"
   ]
  },
  {
   "cell_type": "code",
   "execution_count": null,
   "id": "2fb7dd5a",
   "metadata": {},
   "outputs": [],
   "source": [
    "#sort() aa method ma sort kare assending order ma \n",
    "# koi b string ne assending order ma ma ave\n",
    "#but jo apde \"revers=true\" input kariye tyare desending order ma show thay"
   ]
  },
  {
   "cell_type": "code",
   "execution_count": null,
   "id": "fb6e4d0f",
   "metadata": {},
   "outputs": [],
   "source": [
    "#copy() aa method ma copy kare but jema kar va nu hoy e ma j if multipal string hoy tyare koi 1 string ma change kar vu hoy tyare \n",
    "only e j string ma change thay , all string ma change na thay`"
   ]
  },
  {
   "cell_type": "code",
   "execution_count": null,
   "id": "4347335b",
   "metadata": {},
   "outputs": [],
   "source": []
  }
 ],
 "metadata": {
  "kernelspec": {
   "display_name": "Python 3 (ipykernel)",
   "language": "python",
   "name": "python3"
  },
  "language_info": {
   "codemirror_mode": {
    "name": "ipython",
    "version": 3
   },
   "file_extension": ".py",
   "mimetype": "text/x-python",
   "name": "python",
   "nbconvert_exporter": "python",
   "pygments_lexer": "ipython3",
   "version": "3.9.13"
  }
 },
 "nbformat": 4,
 "nbformat_minor": 5
}
