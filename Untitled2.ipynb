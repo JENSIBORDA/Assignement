{
 "cells": [
  {
   "cell_type": "markdown",
   "id": "b46e6000",
   "metadata": {},
   "source": [
    "# practice  5 minit engginering "
   ]
  },
  {
   "cell_type": "code",
   "execution_count": 1,
   "id": "3451d2b6",
   "metadata": {},
   "outputs": [],
   "source": [
    "#python is a popular programining language.\n"
   ]
  },
  {
   "cell_type": "markdown",
   "id": "70737d6f",
   "metadata": {},
   "source": [
    "# examples"
   ]
  },
  {
   "cell_type": "code",
   "execution_count": 5,
   "id": "74b06337",
   "metadata": {},
   "outputs": [
    {
     "name": "stdout",
     "output_type": "stream",
     "text": [
      "hello\n"
     ]
    }
   ],
   "source": [
    "print(\"hello\")"
   ]
  },
  {
   "cell_type": "code",
   "execution_count": 6,
   "id": "9b760aa1",
   "metadata": {},
   "outputs": [
    {
     "name": "stdout",
     "output_type": "stream",
     "text": [
      "my name is jensi\n"
     ]
    }
   ],
   "source": [
    "print(\"my name is jensi\")"
   ]
  },
  {
   "cell_type": "code",
   "execution_count": 7,
   "id": "211254e3",
   "metadata": {},
   "outputs": [
    {
     "name": "stdout",
     "output_type": "stream",
     "text": [
      "1,2,3\n"
     ]
    }
   ],
   "source": [
    "print(\"1,2,3\")"
   ]
  },
  {
   "cell_type": "code",
   "execution_count": 9,
   "id": "fa0f423d",
   "metadata": {},
   "outputs": [
    {
     "name": "stdout",
     "output_type": "stream",
     "text": [
      "a b c\n"
     ]
    }
   ],
   "source": [
    "print(\"a\",\"b\",\"c\")"
   ]
  },
  {
   "cell_type": "code",
   "execution_count": 24,
   "id": "2b7d1336",
   "metadata": {},
   "outputs": [
    {
     "name": "stdout",
     "output_type": "stream",
     "text": [
      "enter the number :50\n",
      "the number is lass than \n"
     ]
    }
   ],
   "source": [
    "a=int(input(\"enter the number :\"))\n",
    "i=30\n",
    "if (i>40):\n",
    "    print(\" the number is greater than \")\n",
    "else:\n",
    "    print(\"the number is lass than \")"
   ]
  },
  {
   "cell_type": "code",
   "execution_count": null,
   "id": "5984715e",
   "metadata": {},
   "outputs": [],
   "source": []
  }
 ],
 "metadata": {
  "kernelspec": {
   "display_name": "Python 3 (ipykernel)",
   "language": "python",
   "name": "python3"
  },
  "language_info": {
   "codemirror_mode": {
    "name": "ipython",
    "version": 3
   },
   "file_extension": ".py",
   "mimetype": "text/x-python",
   "name": "python",
   "nbconvert_exporter": "python",
   "pygments_lexer": "ipython3",
   "version": "3.9.13"
  }
 },
 "nbformat": 4,
 "nbformat_minor": 5
}
